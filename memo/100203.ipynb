{
 "cells": [
  {
   "cell_type": "markdown",
   "metadata": {},
   "source": [
    "* numpy.hstack  \n",
    "水平結合 horizontally  \n",
    "https://docs.scipy.org/doc/numpy-1.15.0/reference/generated/numpy.hstack.html\n",
    "\n",
    "* numpy.vstack  \n",
    "垂直結合 vertically  \n",
    "https://docs.scipy.org/doc/numpy-1.15.0/reference/generated/numpy.vstack.html#numpy.vstack\n",
    "\n",
    "* numpy.random.shuffle  \n",
    "ランダムにシャッフル（戻り値なしに要注意）  \n",
    "https://docs.scipy.org/doc/numpy-1.15.0/reference/generated/numpy.random.shuffle.html\n",
    "\n",
    "* numpy.hsplit\n",
    "水平分割 horizontally  \n",
    "https://docs.scipy.org/doc/numpy-1.15.1/reference/generated/numpy.hsplit.html#numpy.hsplit\n",
    "\n",
    "* numpy.vsplit  \n",
    "垂直分割 horizontally  \n",
    "https://docs.scipy.org/doc/numpy-1.15.1/reference/generated/numpy.vsplit.html"
   ]
  },
  {
   "cell_type": "code",
   "execution_count": null,
   "metadata": {},
   "outputs": [],
   "source": []
  }
 ],
 "metadata": {
  "kernelspec": {
   "display_name": "Python 3",
   "language": "python",
   "name": "python3"
  },
  "language_info": {
   "codemirror_mode": {
    "name": "ipython",
    "version": 3
   },
   "file_extension": ".py",
   "mimetype": "text/x-python",
   "name": "python",
   "nbconvert_exporter": "python",
   "pygments_lexer": "ipython3",
   "version": "3.6.8"
  }
 },
 "nbformat": 4,
 "nbformat_minor": 2
}
