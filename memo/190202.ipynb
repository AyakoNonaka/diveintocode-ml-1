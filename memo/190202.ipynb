{
 "cells": [
  {
   "cell_type": "code",
   "execution_count": 1,
   "metadata": {},
   "outputs": [
    {
     "name": "stdout",
     "output_type": "stream",
     "text": [
      "5.0057020010003725\n"
     ]
    }
   ],
   "source": [
    "import time\n",
    "\n",
    "# 時間計測開始\n",
    "time_sta = time.perf_counter()\n",
    "\n",
    "# 処理を書く（ここでは5秒停止する）\n",
    "time.sleep(5)\n",
    "\n",
    "# 時間計測終了\n",
    "time_end = time.perf_counter()\n",
    "\n",
    "# 経過時間（秒）\n",
    "tim = time_end- time_sta\n",
    "\n",
    "print(tim)"
   ]
  },
  {
   "cell_type": "code",
   "execution_count": 3,
   "metadata": {},
   "outputs": [
    {
     "name": "stdout",
     "output_type": "stream",
     "text": [
      "5.0054991245269775\n"
     ]
    }
   ],
   "source": [
    "import time\n",
    "\n",
    "# 時間計測開始\n",
    "time_sta = time.time()\n",
    "\n",
    "# 処理を書く（ここでは1秒停止する）\n",
    "time.sleep(5)\n",
    "\n",
    "# 時間計測終了\n",
    "time_end = time.time()\n",
    "\n",
    "# 経過時間（秒）\n",
    "tim = time_end- time_sta\n",
    "\n",
    "print(tim)"
   ]
  },
  {
   "cell_type": "code",
   "execution_count": null,
   "metadata": {},
   "outputs": [],
   "source": []
  }
 ],
 "metadata": {
  "kernelspec": {
   "display_name": "Python 3",
   "language": "python",
   "name": "python3"
  },
  "language_info": {
   "codemirror_mode": {
    "name": "ipython",
    "version": 3
   },
   "file_extension": ".py",
   "mimetype": "text/x-python",
   "name": "python",
   "nbconvert_exporter": "python",
   "pygments_lexer": "ipython3",
   "version": "3.6.8"
  }
 },
 "nbformat": 4,
 "nbformat_minor": 2
}
