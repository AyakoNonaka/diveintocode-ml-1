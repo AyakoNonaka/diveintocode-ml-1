{
 "cells": [
  {
   "cell_type": "markdown",
   "metadata": {},
   "source": [
    "# Week2授業前課題2\n",
    "1. 【課題1】1次元配列を作ろう\n",
    "2. 【課題2】2次元配列を作ろう\n",
    "3. 【課題3】勾配を求めよう\n",
    "4. 【課題4】配列、勾配、グラフを作ろう\n",
    "5. 【課題5】最小値の求め方を説明しよう\n",
    "6. 【課題6】最小値を求めよう"
   ]
  },
  {
   "cell_type": "markdown",
   "metadata": {},
   "source": [
    "## 【課題1】1次元配列を作ろう\n",
    "0~1の範囲で0.01ごとにデータをNumPy配列で作成してください。\n",
    "データは[0, 0.01, 0.02・・・0.98, 0.99, 1]という形式の配列になります。"
   ]
  },
  {
   "cell_type": "code",
   "execution_count": 1,
   "metadata": {},
   "outputs": [
    {
     "data": {
      "text/plain": [
       "array([0.  , 0.01, 0.02, 0.03, 0.04, 0.05, 0.06, 0.07, 0.08, 0.09, 0.1 ,\n",
       "       0.11, 0.12, 0.13, 0.14, 0.15, 0.16, 0.17, 0.18, 0.19, 0.2 , 0.21,\n",
       "       0.22, 0.23, 0.24, 0.25, 0.26, 0.27, 0.28, 0.29, 0.3 , 0.31, 0.32,\n",
       "       0.33, 0.34, 0.35, 0.36, 0.37, 0.38, 0.39, 0.4 , 0.41, 0.42, 0.43,\n",
       "       0.44, 0.45, 0.46, 0.47, 0.48, 0.49, 0.5 , 0.51, 0.52, 0.53, 0.54,\n",
       "       0.55, 0.56, 0.57, 0.58, 0.59, 0.6 , 0.61, 0.62, 0.63, 0.64, 0.65,\n",
       "       0.66, 0.67, 0.68, 0.69, 0.7 , 0.71, 0.72, 0.73, 0.74, 0.75, 0.76,\n",
       "       0.77, 0.78, 0.79, 0.8 , 0.81, 0.82, 0.83, 0.84, 0.85, 0.86, 0.87,\n",
       "       0.88, 0.89, 0.9 , 0.91, 0.92, 0.93, 0.94, 0.95, 0.96, 0.97, 0.98,\n",
       "       0.99, 1.  ])"
      ]
     },
     "execution_count": 1,
     "metadata": {},
     "output_type": "execute_result"
    }
   ],
   "source": [
    "import numpy as np\n",
    "# one_dimensional_array = np.arange(0, 1.01, 0.01)\n",
    "one_dimensional_array = np.linspace(0, 1.0, num=101)\n",
    "one_dimensional_array"
   ]
  },
  {
   "cell_type": "markdown",
   "metadata": {},
   "source": [
    "## 【課題2】2次元配列を作ろう\n",
    "y = 1 / 2 * x + 1\n",
    "xの範囲を[0,1]、xの刻み幅を0.01としてyの値を計算しなさい。そして計算結果をNumPy配列の0列目にx、1列目にyの値がくるように2次元のarrayで表現しなさい。\n",
    "計算する際は、上の【課題1】で作成したNumPy配列を用いること。"
   ]
  },
  {
   "cell_type": "code",
   "execution_count": 2,
   "metadata": {},
   "outputs": [
    {
     "data": {
      "text/plain": [
       "array([[0.   , 1.   ],\n",
       "       [0.01 , 1.005],\n",
       "       [0.02 , 1.01 ],\n",
       "       [0.03 , 1.015],\n",
       "       [0.04 , 1.02 ],\n",
       "       [0.05 , 1.025],\n",
       "       [0.06 , 1.03 ],\n",
       "       [0.07 , 1.035],\n",
       "       [0.08 , 1.04 ],\n",
       "       [0.09 , 1.045],\n",
       "       [0.1  , 1.05 ],\n",
       "       [0.11 , 1.055],\n",
       "       [0.12 , 1.06 ],\n",
       "       [0.13 , 1.065],\n",
       "       [0.14 , 1.07 ],\n",
       "       [0.15 , 1.075],\n",
       "       [0.16 , 1.08 ],\n",
       "       [0.17 , 1.085],\n",
       "       [0.18 , 1.09 ],\n",
       "       [0.19 , 1.095],\n",
       "       [0.2  , 1.1  ],\n",
       "       [0.21 , 1.105],\n",
       "       [0.22 , 1.11 ],\n",
       "       [0.23 , 1.115],\n",
       "       [0.24 , 1.12 ],\n",
       "       [0.25 , 1.125],\n",
       "       [0.26 , 1.13 ],\n",
       "       [0.27 , 1.135],\n",
       "       [0.28 , 1.14 ],\n",
       "       [0.29 , 1.145],\n",
       "       [0.3  , 1.15 ],\n",
       "       [0.31 , 1.155],\n",
       "       [0.32 , 1.16 ],\n",
       "       [0.33 , 1.165],\n",
       "       [0.34 , 1.17 ],\n",
       "       [0.35 , 1.175],\n",
       "       [0.36 , 1.18 ],\n",
       "       [0.37 , 1.185],\n",
       "       [0.38 , 1.19 ],\n",
       "       [0.39 , 1.195],\n",
       "       [0.4  , 1.2  ],\n",
       "       [0.41 , 1.205],\n",
       "       [0.42 , 1.21 ],\n",
       "       [0.43 , 1.215],\n",
       "       [0.44 , 1.22 ],\n",
       "       [0.45 , 1.225],\n",
       "       [0.46 , 1.23 ],\n",
       "       [0.47 , 1.235],\n",
       "       [0.48 , 1.24 ],\n",
       "       [0.49 , 1.245],\n",
       "       [0.5  , 1.25 ],\n",
       "       [0.51 , 1.255],\n",
       "       [0.52 , 1.26 ],\n",
       "       [0.53 , 1.265],\n",
       "       [0.54 , 1.27 ],\n",
       "       [0.55 , 1.275],\n",
       "       [0.56 , 1.28 ],\n",
       "       [0.57 , 1.285],\n",
       "       [0.58 , 1.29 ],\n",
       "       [0.59 , 1.295],\n",
       "       [0.6  , 1.3  ],\n",
       "       [0.61 , 1.305],\n",
       "       [0.62 , 1.31 ],\n",
       "       [0.63 , 1.315],\n",
       "       [0.64 , 1.32 ],\n",
       "       [0.65 , 1.325],\n",
       "       [0.66 , 1.33 ],\n",
       "       [0.67 , 1.335],\n",
       "       [0.68 , 1.34 ],\n",
       "       [0.69 , 1.345],\n",
       "       [0.7  , 1.35 ],\n",
       "       [0.71 , 1.355],\n",
       "       [0.72 , 1.36 ],\n",
       "       [0.73 , 1.365],\n",
       "       [0.74 , 1.37 ],\n",
       "       [0.75 , 1.375],\n",
       "       [0.76 , 1.38 ],\n",
       "       [0.77 , 1.385],\n",
       "       [0.78 , 1.39 ],\n",
       "       [0.79 , 1.395],\n",
       "       [0.8  , 1.4  ],\n",
       "       [0.81 , 1.405],\n",
       "       [0.82 , 1.41 ],\n",
       "       [0.83 , 1.415],\n",
       "       [0.84 , 1.42 ],\n",
       "       [0.85 , 1.425],\n",
       "       [0.86 , 1.43 ],\n",
       "       [0.87 , 1.435],\n",
       "       [0.88 , 1.44 ],\n",
       "       [0.89 , 1.445],\n",
       "       [0.9  , 1.45 ],\n",
       "       [0.91 , 1.455],\n",
       "       [0.92 , 1.46 ],\n",
       "       [0.93 , 1.465],\n",
       "       [0.94 , 1.47 ],\n",
       "       [0.95 , 1.475],\n",
       "       [0.96 , 1.48 ],\n",
       "       [0.97 , 1.485],\n",
       "       [0.98 , 1.49 ],\n",
       "       [0.99 , 1.495],\n",
       "       [1.   , 1.5  ]])"
      ]
     },
     "execution_count": 2,
     "metadata": {},
     "output_type": "execute_result"
    }
   ],
   "source": [
    "x = one_dimensional_array[:,np.newaxis]\n",
    "\n",
    "list_of_y  = []\n",
    "\n",
    "for i in range(len(one_dimensional_array)):\n",
    "    value_of_y = one_dimensional_array[i] / 2 + 1\n",
    "    list_of_y.append(value_of_y)\n",
    "\n",
    "y = np.array(list_of_y)[:,np.newaxis]\n",
    "\n",
    "two_dimensional_array = np.append(x, y, axis=1)\n",
    "two_dimensional_array"
   ]
  },
  {
   "cell_type": "markdown",
   "metadata": {},
   "source": [
    "## 【課題3】勾配を求めよう\n",
    "上の公式を使って、各x座標における勾配を求めてください。ここでも上の【課題1】で作成したNumPy配列を用いて計算してください。(1次元のlist等に変換しないこと)"
   ]
  },
  {
   "cell_type": "code",
   "execution_count": 3,
   "metadata": {},
   "outputs": [
    {
     "data": {
      "text/plain": [
       "array([0.5, 0.5, 0.5, 0.5, 0.5, 0.5, 0.5, 0.5, 0.5, 0.5, 0.5, 0.5, 0.5,\n",
       "       0.5, 0.5, 0.5, 0.5, 0.5, 0.5, 0.5, 0.5, 0.5, 0.5, 0.5, 0.5, 0.5,\n",
       "       0.5, 0.5, 0.5, 0.5, 0.5, 0.5, 0.5, 0.5, 0.5, 0.5, 0.5, 0.5, 0.5,\n",
       "       0.5, 0.5, 0.5, 0.5, 0.5, 0.5, 0.5, 0.5, 0.5, 0.5, 0.5, 0.5, 0.5,\n",
       "       0.5, 0.5, 0.5, 0.5, 0.5, 0.5, 0.5, 0.5, 0.5, 0.5, 0.5, 0.5, 0.5,\n",
       "       0.5, 0.5, 0.5, 0.5, 0.5, 0.5, 0.5, 0.5, 0.5, 0.5, 0.5, 0.5, 0.5,\n",
       "       0.5, 0.5, 0.5, 0.5, 0.5, 0.5, 0.5, 0.5, 0.5, 0.5, 0.5, 0.5, 0.5,\n",
       "       0.5, 0.5, 0.5, 0.5, 0.5, 0.5, 0.5, 0.5, 0.5, 0.5])"
      ]
     },
     "execution_count": 3,
     "metadata": {},
     "output_type": "execute_result"
    }
   ],
   "source": [
    "# 厳密に各点における勾配を求めるには極限（微分）を利用する必要がありますが、ここでは各x座標=隣り合うx座標の間隔だと思ってください。\n",
    "# 勾配はx座標の間隔を使うので、xの点の数に対して一つ少なくなります。\n",
    "\n",
    "list_of_slope = []\n",
    "\n",
    "for i in range(len(one_dimensional_array) - 1):\n",
    "    value_of_slope = (y[i+1]-y[i]) / (x[i+1]-x[i])\n",
    "    list_of_slope.append(value_of_slope)\n",
    "\n",
    "slope = np.array(list_of_slope)\n",
    "\n",
    "# 普通に求めると100個の勾配が出てきますが、残りの一つの勾配は、自分で考えて値を埋めてください。\n",
    "last_slope = ((1.01/2 +1)-(1/2 +1)) / (1.01-1)\n",
    "\n",
    "slope = np.append(slope, last_slope)\n",
    "slope"
   ]
  },
  {
   "cell_type": "markdown",
   "metadata": {},
   "source": [
    "## 【課題4】配列、勾配、グラフを作ろう\n",
    "【課題2】、【課題3】と同様に、2次元配列を作り、勾配を求めてください。\n",
    "さらに、求めた勾配をMatplotlibを用いてグラフで描画してください。"
   ]
  },
  {
   "cell_type": "code",
   "execution_count": 4,
   "metadata": {},
   "outputs": [
    {
     "data": {
      "text/plain": [
       "[<matplotlib.lines.Line2D at 0x111202d68>]"
      ]
     },
     "execution_count": 4,
     "metadata": {},
     "output_type": "execute_result"
    },
    {
     "data": {
      "image/png": "[encoded data removed]",
      "text/plain": [
       "<Figure size 432x288 with 1 Axes>"
      ]
     },
     "metadata": {},
     "output_type": "display_data"
    }
   ],
   "source": [
    "list_of_y = []\n",
    "\n",
    "for i in range(len(one_dimensional_array)):\n",
    "    value_of_y  = one_dimensional_array[i] ** 2\n",
    "    list_of_y.append( value_of_y)\n",
    "\n",
    "y = np.array(list_of_y)[:,np.newaxis]\n",
    "\n",
    "np.append(x, y, axis=1)\n",
    "\n",
    "list_of_slope = []\n",
    "for i in range(len(x) - 1):\n",
    "    value_of_slope = (y[i+1] - y[i]) / (x[i+1] - x[i])\n",
    "    list_of_slope.append(value_of_slope)\n",
    "\n",
    "slope = np.array(list_of_slope)\n",
    "\n",
    "last_slope = (1.01**2 - 1**2) / (1.01 - 1)\n",
    "\n",
    "slope = np.append(slope, last_slope)\n",
    "\n",
    "import matplotlib.pyplot as plt\n",
    "%matplotlib inline\n",
    "\n",
    "plt.title(\"slope of  'y = x^2' \")\n",
    "plt.xlabel(\"x\")\n",
    "plt.ylabel(\"y\")\n",
    "plt.plot(slope)"
   ]
  },
  {
   "cell_type": "markdown",
   "metadata": {},
   "source": [
    "## 【課題5】最小値の求め方を説明しよう\n",
    "勾配を使用して y = x^2 の最小値の求める方法を説明してください。\n",
    "勾配降下法というワードを使用して、記述してください。実装ではなく、アルゴリズムのフローチャートを記述してください。"
   ]
  },
  {
   "cell_type": "markdown",
   "metadata": {},
   "source": [
    "勾配降下法を活用すると y = x^2 の最小値を求めることができる。\n",
    "\n",
    "具体的には、下記の通り。\n",
    "1. 任意の地点を決める。\n",
    "2. 地点間の勾配の方向を求める。\n",
    "3. 勾配が下に傾いている方向に進む。\n",
    "4. 2と3を繰り返す。\n",
    "5. 最小になった段階で終了\n",
    "\n",
    "参考情報：https://qiita.com/kenmatsu4/items/d282054ddedbd68fecb0"
   ]
  },
  {
   "cell_type": "markdown",
   "metadata": {},
   "source": [
    "## 【課題6】最小値を求めよう\n",
    " 最小値を勾配降下法ではなく、微分法を使って求めてください。"
   ]
  },
  {
   "cell_type": "markdown",
   "metadata": {},
   "source": [
    "微分法を活用すると y = x^2 の最小値を求めることができる。\n",
    "1. 一定地点間の変化の割合をyの増加量とxの増加量より求める。\n",
    "2. 変化の割合（傾き）がゼロになるまで繰り返す\n",
    "3. ゼロになった段階で終了\n",
    "\n",
    "参考情報： https://sci-pursuit.com/math/differential-1.html"
   ]
  }
 ],
 "metadata": {
  "kernelspec": {
   "display_name": "Python 3",
   "language": "python",
   "name": "python3"
  },
  "language_info": {
   "codemirror_mode": {
    "name": "ipython",
    "version": 3
   },
   "file_extension": ".py",
   "mimetype": "text/x-python",
   "name": "python",
   "nbconvert_exporter": "python",
   "pygments_lexer": "ipython3",
   "version": "3.6.5"
  }
 },
 "nbformat": 4,
 "nbformat_minor": 2
}
