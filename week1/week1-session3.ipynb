{
 "cells": [
  {
   "cell_type": "markdown",
   "metadata": {},
   "source": [
    "# 栗まんじゅう問題\n",
    "5分後2個\n",
    "10分後4個\n",
    "15分後8個\n",
    "30分後64個\n",
    "\n",
    "input \n",
    "Chestnut Cake volume（栗饅頭の体積）\n",
    "Volume of solar system\n",
    "\n",
    "体積の関数 球か立方体か\n",
    "\n",
    "\n",
    "def　covering_minutes\n",
    "i = 0\n",
    "while  >  :\n",
    "    饅頭の体積　* 2**i\n",
    "    i + 1\n",
    "minute = i * 5分後\n",
    "\n",
    "output minute"
   ]
  },
  {
   "cell_type": "code",
   "execution_count": 1,
   "metadata": {},
   "outputs": [
    {
     "name": "stdout",
     "output_type": "stream",
     "text": [
      "885\n"
     ]
    }
   ],
   "source": [
    "import math\n",
    "chestnut_cake_volume = 6 * 4 * 3 /1000000\n",
    "volume_of_solar_system = math.pi * 3 * (15 * 10 **15)**3 / 4\n",
    "\n",
    "def covering_minutes(sprinkle_target, compare_target):\n",
    "    i = 0\n",
    "    while sprinkle_target < compare_target:\n",
    "        \n",
    "        sprinkle_target *= 2\n",
    "        i += 1\n",
    "    minute = i * 5   \n",
    "    return minute\n",
    "\n",
    "\n",
    "print(covering_minutes(chestnut_cake_volume, volume_of_solar_system))"
   ]
  },
  {
   "cell_type": "code",
   "execution_count": 2,
   "metadata": {},
   "outputs": [
    {
     "name": "stdout",
     "output_type": "stream",
     "text": [
      "175\n"
     ]
    }
   ],
   "source": [
    "TOKYO_DOME = 1240000\n",
    "print(covering_minutes(chestnut_cake_volume, TOKYO_DOME))"
   ]
  }
 ],
 "metadata": {
  "kernelspec": {
   "display_name": "Python 3",
   "language": "python",
   "name": "python3"
  },
  "language_info": {
   "codemirror_mode": {
    "name": "ipython",
    "version": 3
   },
   "file_extension": ".py",
   "mimetype": "text/x-python",
   "name": "python",
   "nbconvert_exporter": "python",
   "pygments_lexer": "ipython3",
   "version": "3.6.5"
  }
 },
 "nbformat": 4,
 "nbformat_minor": 2
}
