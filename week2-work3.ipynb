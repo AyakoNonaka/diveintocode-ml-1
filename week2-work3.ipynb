{
 "cells": [
  {
   "cell_type": "markdown",
   "metadata": {},
   "source": [
    "# Week2授業前課題3\n",
    "【課題1】内積を手計算しよう\n",
    "【課題2】1次元配列の内積をfor文で計算しよう\n",
    "【課題3】多次元配列の内積をfor文で計算しよう\n",
    "【課題4】内積をnp.dotで計算しよう\n",
    "【課題5】内積ができないときはどうするか"
   ]
  },
  {
   "cell_type": "markdown",
   "metadata": {},
   "source": [
    "## 【課題1】内積を手計算しよう\n",
    "行列の内積A*Bを手計算で解きなさい。"
   ]
  },
  {
   "cell_type": "code",
   "execution_count": null,
   "metadata": {},
   "outputs": [],
   "source": []
  },
  {
   "cell_type": "markdown",
   "metadata": {},
   "source": [
    "## 【課題2】1次元配列の内積をfor文で計算しよう\n",
    "ご自身で配列のindexを指定し、\n",
    "行列Aの(0,0)の要素と行列Bの(0,1)の要素を掛け合わせる\n",
    "行列Aの(0,1)の要素と行列Bの(1,1)の要素を掛け合わせる\n",
    "行列Aの(0,2)の要素と行列Bの(2,1)の要素を掛け合わせる\n",
    "それらの値を全て足し合わせる\n",
    "のフローをfor文を使って計算してください。"
   ]
  },
  {
   "cell_type": "code",
   "execution_count": 1,
   "metadata": {},
   "outputs": [
    {
     "data": {
      "text/plain": [
       "6"
      ]
     },
     "execution_count": 1,
     "metadata": {},
     "output_type": "execute_result"
    }
   ],
   "source": [
    "import numpy as np\n",
    "\n",
    "A = np.array(\n",
    "    [\n",
    "      [-1 ,2 ,3]\n",
    "    , [4 ,-5 ,6]\n",
    "    , [7 ,8 , -9]\n",
    "    ]\n",
    ")\n",
    "\n",
    "B = np.array(\n",
    "    [\n",
    "      [0, 2, 1]\n",
    "    , [0, 2, -8]\n",
    "    , [2, 9, -1]\n",
    "    ]\n",
    ")\n",
    "\n",
    "inner_product = []\n",
    "\n",
    "for i in range(3):\n",
    "    inner_product.append(A[0][i] * B[i][0])\n",
    "\n",
    "sum(inner_product)"
   ]
  },
  {
   "cell_type": "markdown",
   "metadata": {},
   "source": [
    "## 【課題3】多次元配列の内積をfor文で計算しよう\n",
    "for文を使って行列A、Bの積を計算しましょう！【課題2】では(0,0)のみ計算していただきましたが、全て計算してください。"
   ]
  },
  {
   "cell_type": "code",
   "execution_count": 2,
   "metadata": {},
   "outputs": [
    {
     "data": {
      "text/plain": [
       "array([[  6,  29, -20],\n",
       "       [ 12,  52,  38],\n",
       "       [-18, -51, -48]])"
      ]
     },
     "execution_count": 2,
     "metadata": {},
     "output_type": "execute_result"
    }
   ],
   "source": [
    "inner_product = []\n",
    "\n",
    "for row in range(3):\n",
    "    for column in range(3):\n",
    "        inner_product_value = 0\n",
    "        for i in range(3):\n",
    "            inner_product_value += A[row][i] * B[i][column]\n",
    "        inner_product.append(inner_product_value)\n",
    "\n",
    "np.array(inner_product).reshape(3,3)"
   ]
  },
  {
   "cell_type": "markdown",
   "metadata": {},
   "source": [
    "## 【課題4】内積をnp.dotで計算しよう\n",
    "np.dot(A,B)と計算すると、【課題3】で計算していただいたことが一瞬でできます。\n",
    "np.dot(A,B)を計算して、【課題3】と同じになることを試してください。"
   ]
  },
  {
   "cell_type": "code",
   "execution_count": 3,
   "metadata": {},
   "outputs": [
    {
     "data": {
      "text/plain": [
       "array([[  6,  29, -20],\n",
       "       [ 12,  52,  38],\n",
       "       [-18, -51, -48]])"
      ]
     },
     "execution_count": 3,
     "metadata": {},
     "output_type": "execute_result"
    }
   ],
   "source": [
    "np.dot(A,B)"
   ]
  },
  {
   "cell_type": "markdown",
   "metadata": {},
   "source": [
    "## 【課題5】内積ができないときはどうするか\n",
    "行列A*Bを計算しようとすると、エラーが出て計算できません。なぜエラーが出るのか理由を記載してください。\n",
    "そして、行列A、Bのどちらかにある操作をするとエラーが出ずに計算できます。\n",
    "自分である操作を施し、内積を計算してください。"
   ]
  },
  {
   "cell_type": "code",
   "execution_count": 4,
   "metadata": {},
   "outputs": [
    {
     "data": {
      "text/plain": [
       "array([[ 33, -28,   9],\n",
       "       [-48,  41,  -6],\n",
       "       [  9,  -6,  45]])"
      ]
     },
     "execution_count": 4,
     "metadata": {},
     "output_type": "execute_result"
    }
   ],
   "source": [
    "# 行数2、列数3\n",
    "A = np.array(\n",
    "    [\n",
    "          [-1, 2, 3]\n",
    "        , [4, -5, 6]\n",
    "    ]\n",
    ")\n",
    "\n",
    "# 行数2、列数3\n",
    "B = np.array(\n",
    "    [\n",
    "          [-9, 8, 7]\n",
    "        , [6, -5, 4]\n",
    "    ]\n",
    ")\n",
    "\n",
    "# ここでエラーになるのは、内積を求める対象行列の行と列の数が揃っていないため。\n",
    "\n",
    "# np.dot(A, B.T)\n",
    "np.dot(A.T, B)"
   ]
  },
  {
   "cell_type": "code",
   "execution_count": null,
   "metadata": {},
   "outputs": [],
   "source": []
  }
 ],
 "metadata": {
  "kernelspec": {
   "display_name": "Python 3",
   "language": "python",
   "name": "python3"
  },
  "language_info": {
   "codemirror_mode": {
    "name": "ipython",
    "version": 3
   },
   "file_extension": ".py",
   "mimetype": "text/x-python",
   "name": "python",
   "nbconvert_exporter": "python",
   "pygments_lexer": "ipython3",
   "version": "3.6.5"
  }
 },
 "nbformat": 4,
 "nbformat_minor": 2
}
