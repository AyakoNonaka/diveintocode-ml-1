{
 "cells": [
  {
   "cell_type": "code",
   "execution_count": 4,
   "metadata": {},
   "outputs": [],
   "source": [
    "import numpy as np\n",
    "\n",
    "a =  np.array(\n",
    "# 1階層\n",
    "    [\n",
    "        # 2階層\n",
    "        [\n",
    "            # 3階層\n",
    "            [\n",
    "                # 4階層\n",
    "                [\n",
    "                    # 5階層\n",
    "                    [\n",
    "                        # 6階層\n",
    "                        [\n",
    "                            1,2\n",
    "                        ],\n",
    "                        [\n",
    "                            3,4\n",
    "                        ]\n",
    "                    ],\n",
    "                    \n",
    "                    [\n",
    "                        [5,6],\n",
    "                        [7,8]\n",
    "                    ]\n",
    "                ],\n",
    "\n",
    "                [\n",
    "                    [\n",
    "                        [9,10],\n",
    "                        [11,12]\n",
    "                    ],\n",
    "\n",
    "                 [\n",
    "                     [13,14],\n",
    "                     [15,16]\n",
    "                 ]\n",
    "                ]\n",
    "            ],\n",
    "            \n",
    "            [\n",
    "                [\n",
    "                    [\n",
    "                        [17,18],\n",
    "                        [19,20]\n",
    "                    ],\n",
    "                    [\n",
    "                        [21,22],\n",
    "                        [23,24]\n",
    "                    ]\n",
    "                ],\n",
    "                [\n",
    "                    [\n",
    "                        [25,26],\n",
    "                        [27,28]\n",
    "                    ],\n",
    "                    [\n",
    "                        [29,30],\n",
    "                        [31,32]\n",
    "                    ]\n",
    "                ]\n",
    "            ]\n",
    "        ],\n",
    "        \n",
    "        [\n",
    "            [\n",
    "                [\n",
    "                    [\n",
    "                        [33,34],\n",
    "                        [35,36]\n",
    "                    ],\n",
    "                    [\n",
    "                        [37,38],\n",
    "                        [39,40]\n",
    "                    ]\n",
    "                ],\n",
    "                \n",
    "                [\n",
    "                    [\n",
    "                        [41,42],\n",
    "                        [43,44]\n",
    "                    ],\n",
    "                    [\n",
    "                        [45,46],\n",
    "                        [47,48]\n",
    "                    ]\n",
    "                ]\n",
    "            ],\n",
    "\n",
    "              [\n",
    "                  [\n",
    "                      [\n",
    "                          [49,50],\n",
    "                          [51,52]\n",
    "                      ],\n",
    "                      [\n",
    "                          [53,54],\n",
    "                          [55,56]\n",
    "                      ]\n",
    "                  ],\n",
    "                  [\n",
    "                      [\n",
    "                          [57,58],\n",
    "                          [59,60]\n",
    "                      ],\n",
    "                      [\n",
    "                          [61,62],\n",
    "                          [63,64]\n",
    "                      ]\n",
    "                  ]\n",
    "              ]\n",
    "        ]\n",
    "    ]\n",
    ") \n",
    "\n",
    "\n"
   ]
  },
  {
   "cell_type": "code",
   "execution_count": 22,
   "metadata": {},
   "outputs": [
    {
     "data": {
      "text/plain": [
       "46"
      ]
     },
     "execution_count": 22,
     "metadata": {},
     "output_type": "execute_result"
    }
   ],
   "source": [
    "# 6階層のため6階層インデックス指定する\n",
    "a[1][0][1][1][0][1]"
   ]
  },
  {
   "cell_type": "markdown",
   "metadata": {},
   "source": [
    "# 並列計算"
   ]
  },
  {
   "cell_type": "code",
   "execution_count": 1,
   "metadata": {},
   "outputs": [],
   "source": [
    "from multiprocessing import Pool\n",
    " \n",
    "##### 並列計算させる関数(処理):引数1つ ###\n",
    "##### この場合は，引数の二乗を返す関数 ###\n",
    "def nijou(x):\n",
    "    print( x*x )\n",
    " "
   ]
  },
  {
   "cell_type": "code",
   "execution_count": 10,
   "metadata": {},
   "outputs": [
    {
     "name": "stdout",
     "output_type": "stream",
     "text": [
      "0\n",
      "4\n",
      "1\n",
      "9\n",
      "16\n",
      "25\n",
      "36\n",
      "49\n",
      "64\n",
      "81\n"
     ]
    }
   ],
   "source": [
    "###### 並列計算させてみる #########\n",
    "if __name__ == \"__main__\":\n",
    "    p = Pool(4)\n",
    "    p.map( nijou, range(10) )#nijouに0,1,..のそれぞれを与えて並列演算"
   ]
  },
  {
   "cell_type": "code",
   "execution_count": null,
   "metadata": {},
   "outputs": [],
   "source": []
  }
 ],
 "metadata": {
  "kernelspec": {
   "display_name": "Python 3",
   "language": "python",
   "name": "python3"
  },
  "language_info": {
   "codemirror_mode": {
    "name": "ipython",
    "version": 3
   },
   "file_extension": ".py",
   "mimetype": "text/x-python",
   "name": "python",
   "nbconvert_exporter": "python",
   "pygments_lexer": "ipython3",
   "version": "3.6.5"
  }
 },
 "nbformat": 4,
 "nbformat_minor": 2
}
