{
 "cells": [
  {
   "cell_type": "markdown",
   "metadata": {},
   "source": [
    "# 機械の気持ちになろう_２"
   ]
  },
  {
   "cell_type": "markdown",
   "metadata": {},
   "source": [
    "## Numpy arrayの場合"
   ]
  },
  {
   "cell_type": "code",
   "execution_count": 1,
   "metadata": {},
   "outputs": [],
   "source": [
    "import numpy as np"
   ]
  },
  {
   "cell_type": "code",
   "execution_count": 2,
   "metadata": {},
   "outputs": [],
   "source": [
    "a =  np.array([[[[[[1,2],\n",
    "                  [3,4]],\n",
    "\n",
    "                 [[5,6],\n",
    "                  [7,8]]],\n",
    "\n",
    "                [[[9,10],\n",
    "                  [11,12]],\n",
    "\n",
    "                 [[13,14],\n",
    "                  [15,16]]]],\n",
    "\n",
    "               [[[[17,18],\n",
    "                 [19,20]],\n",
    "\n",
    "                [[21,22],\n",
    "                 [23,24]]],\n",
    "\n",
    "               [[[25,26],\n",
    "                  [27,28]],\n",
    "\n",
    "                [[29,30],\n",
    "                 [31,32]]]]],\n",
    "\n",
    "             [[[[[33,34],\n",
    "                 [35,36]],\n",
    "\n",
    "                [[37,38],\n",
    "                 [39,40]]],\n",
    "\n",
    "               [[[41,42],\n",
    "                 [43,44]],\n",
    "\n",
    "                [[45,46],\n",
    "                 [47,48]]]],\n",
    "\n",
    "              [[[[49,50],\n",
    "                 [51,52]],\n",
    "\n",
    "                [[53,54],\n",
    "                 [55,56]]],\n",
    "\n",
    "               [[[57,58],\n",
    "                 [59,60]],\n",
    "\n",
    "                [[61,62],\n",
    "                 [63,64]]]]]])      "
   ]
  },
  {
   "cell_type": "code",
   "execution_count": 3,
   "metadata": {},
   "outputs": [
    {
     "data": {
      "text/plain": [
       "46"
      ]
     },
     "execution_count": 3,
     "metadata": {},
     "output_type": "execute_result"
    }
   ],
   "source": [
    "a[1][0][1][1][0][1]"
   ]
  },
  {
   "cell_type": "code",
   "execution_count": 6,
   "metadata": {},
   "outputs": [
    {
     "name": "stdout",
     "output_type": "stream",
     "text": [
      "64の番地: 0x110ddc480 \n",
      "63の番地: 0x110ddc480 \n",
      "61の番地: 0x110ddc480 \n",
      "57の番地: 0x110ddc480 \n",
      "49の番地: 0x110ddc480 \n",
      "全体の番地: 0x110f9e620\n"
     ]
    }
   ],
   "source": [
    "#############################################\n",
    "# indexを取るとみんな同じ番地にいる。\n",
    "# でもarray全体は違う番地。一つの領域を確保している。\n",
    "#############################################\n",
    "\n",
    "print(\n",
    "'{}の番地:'.format(a[1][1][1][1][1][1]),hex(id(a[1][1][1][1][1][1])),   \n",
    "'\\n{}の番地:'.format(a[1][1][1][1][1][0]),hex(id(a[1][1][1][1][1][0])),\n",
    "'\\n{}の番地:'.format(a[1][1][1][1][0][0]),hex(id(a[1][1][1][1][0][0])),\n",
    "'\\n{}の番地:'.format(a[1][1][1][0][0][0]),hex(id(a[1][1][1][0][0][0])),\n",
    "'\\n{}の番地:'.format(a[1][1][0][0][0][0]),hex(id(a[1][1][0][0][0][0])),\n",
    "'\\n全体の番地:',hex(id(a)))"
   ]
  },
  {
   "cell_type": "code",
   "execution_count": 8,
   "metadata": {},
   "outputs": [
    {
     "name": "stdout",
     "output_type": "stream",
     "text": [
      "\n",
      "1000の番地: 0x110ddc4b0 \n",
      "63の番地: 0x110ddc4b0 \n",
      "61の番地: 0x110ddc4b0 \n",
      "57の番地: 0x110ddc4b0 \n",
      "49の番地: 0x110ddc4b0 \n",
      "全体の番地: 0x110f9e620\n"
     ]
    }
   ],
   "source": [
    "#############################################\n",
    "# 64の値を1000で上書きしてみる\n",
    "#############################################\n",
    "\n",
    "a[1][1][1][1][1][1] = 1000 \n",
    "\n",
    "print(\n",
    "'\\n{}の番地:'.format(a[1][1][1][1][1][1]),hex(id(a[1][1][1][1][1][1])),   \n",
    "'\\n{}の番地:'.format(a[1][1][1][1][1][0]),hex(id(a[1][1][1][1][1][0])),\n",
    "'\\n{}の番地:'.format(a[1][1][1][1][0][0]),hex(id(a[1][1][1][1][0][0])),\n",
    "'\\n{}の番地:'.format(a[1][1][1][0][0][0]),hex(id(a[1][1][1][0][0][0])),\n",
    "'\\n{}の番地:'.format(a[1][1][0][0][0][0]),hex(id(a[1][1][0][0][0][0])),\n",
    "'\\n全体の番地:',hex(id(a)))"
   ]
  },
  {
   "cell_type": "code",
   "execution_count": null,
   "metadata": {},
   "outputs": [],
   "source": [
    "# 値の番地が変わった"
   ]
  },
  {
   "cell_type": "markdown",
   "metadata": {},
   "source": [
    "## リストの場合"
   ]
  },
  {
   "cell_type": "code",
   "execution_count": 9,
   "metadata": {},
   "outputs": [],
   "source": [
    "b =  [[[[[[1,2],\n",
    "          [3,4]],\n",
    "\n",
    "         [[5,6],\n",
    "          [7,8]]],\n",
    "\n",
    "        [[[9,10],\n",
    "          [11,12]],\n",
    "\n",
    "        [[13,14],\n",
    "         [15,16]]]],\n",
    "\n",
    "       [[[[17,18],\n",
    "         [19,20]],\n",
    "\n",
    "        [[21,22],\n",
    "         [23,24]]],\n",
    "\n",
    "        [[[25,26],\n",
    "          [27,28]],\n",
    "\n",
    "        [[29,30],\n",
    "         [31,32]]]]],\n",
    "\n",
    "    [[[[[33,34],\n",
    "        [35,36]],\n",
    "\n",
    "       [[37,38],\n",
    "        [39,40]]],\n",
    "\n",
    "      [[[41,42],\n",
    "        [43,44]],\n",
    "\n",
    "       [[45,46],\n",
    "        [47,48]]]],\n",
    "\n",
    "      [[[[49,50],\n",
    "         [51,52]],\n",
    "\n",
    "        [[53,54],\n",
    "         [55,56]]],\n",
    "\n",
    "       [[[57,58],\n",
    "         [59,60]],\n",
    "\n",
    "        [[61,62],\n",
    "         [63,64]]]]]]    "
   ]
  },
  {
   "cell_type": "code",
   "execution_count": 10,
   "metadata": {},
   "outputs": [
    {
     "name": "stdout",
     "output_type": "stream",
     "text": [
      "\n",
      "64の番地: 0x10dbd2d40 \n",
      "63の番地: 0x10dbd2d20 \n",
      "61の番地: 0x10dbd2ce0 \n",
      "57の番地: 0x10dbd2c60 \n",
      "49の番地: 0x10dbd2b60 \n",
      "全体の番地: 0x110fdb888\n"
     ]
    }
   ],
   "source": [
    "#############################################\n",
    "# indexを取るとみんな異なる番地にいる。\n",
    "# list全体も違う番地。一つの領域を確保している。\n",
    "#############################################\n",
    "\n",
    "print(\n",
    "'\\n{}の番地:'.format(b[1][1][1][1][1][1]),hex(id(b[1][1][1][1][1][1])),\n",
    "'\\n{}の番地:'.format(b[1][1][1][1][1][0]),hex(id(b[1][1][1][1][1][0])),\n",
    "'\\n{}の番地:'.format(b[1][1][1][1][0][0]),hex(id(b[1][1][1][1][0][0])),\n",
    "'\\n{}の番地:'.format(b[1][1][1][0][0][0]),hex(id(b[1][1][1][0][0][0])),\n",
    "'\\n{}の番地:'.format(b[1][1][0][0][0][0]),hex(id(b[1][1][0][0][0][0])),\n",
    "'\\n全体の番地:',hex(id(b)))"
   ]
  },
  {
   "cell_type": "code",
   "execution_count": 11,
   "metadata": {},
   "outputs": [
    {
     "name": "stdout",
     "output_type": "stream",
     "text": [
      "1000の番地: 0x110dedb70 \n",
      "63の番地: 0x10dbd2d20 \n",
      "61の番地: 0x10dbd2ce0 \n",
      "57の番地: 0x10dbd2c60 \n",
      "49の番地: 0x10dbd2b60 \n",
      "全体の番地: 0x110fdb888\n"
     ]
    }
   ],
   "source": [
    "#############################################\n",
    "# 64の値を1000で上書きしてみる\n",
    "#############################################\n",
    "\n",
    "b[1][1][1][1][1][1] = 1000 \n",
    "\n",
    "print(\n",
    "'{}の番地:'.format(b[1][1][1][1][1][1]),hex(id(b[1][1][1][1][1][1])),\n",
    "'\\n{}の番地:'.format(b[1][1][1][1][1][0]),hex(id(b[1][1][1][1][1][0])),\n",
    "'\\n{}の番地:'.format(b[1][1][1][1][0][0]),hex(id(b[1][1][1][1][0][0])),\n",
    "'\\n{}の番地:'.format(b[1][1][1][0][0][0]),hex(id(b[1][1][1][0][0][0])),\n",
    "'\\n{}の番地:'.format(b[1][1][0][0][0][0]),hex(id(b[1][1][0][0][0][0])),\n",
    "'\\n全体の番地:',hex(id(b)))"
   ]
  },
  {
   "cell_type": "code",
   "execution_count": null,
   "metadata": {},
   "outputs": [],
   "source": [
    "### 1000の番地以外は変わっていない。リストはポインタの塊（アドレスデータ + 値のデータ）"
   ]
  }
 ],
 "metadata": {
  "kernelspec": {
   "display_name": "Python 3",
   "language": "python",
   "name": "python3"
  },
  "language_info": {
   "codemirror_mode": {
    "name": "ipython",
    "version": 3
   },
   "file_extension": ".py",
   "mimetype": "text/x-python",
   "name": "python",
   "nbconvert_exporter": "python",
   "pygments_lexer": "ipython3",
   "version": "3.6.5"
  },
  "toc": {
   "base_numbering": 1,
   "nav_menu": {},
   "number_sections": true,
   "sideBar": true,
   "skip_h1_title": false,
   "title_cell": "Table of Contents",
   "title_sidebar": "Contents",
   "toc_cell": false,
   "toc_position": {},
   "toc_section_display": true,
   "toc_window_display": false
  }
 },
 "nbformat": 4,
 "nbformat_minor": 2
}
