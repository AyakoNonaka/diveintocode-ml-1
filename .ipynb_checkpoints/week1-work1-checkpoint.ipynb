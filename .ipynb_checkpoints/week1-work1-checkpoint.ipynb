{
 "cells": [
  {
   "cell_type": "markdown",
   "metadata": {},
   "source": [
    "# 紙を43回折った時の厚さを計算するコード"
   ]
  },
  {
   "cell_type": "markdown",
   "metadata": {},
   "source": [
    "## べき乗"
   ]
  },
  {
   "cell_type": "code",
   "execution_count": 30,
   "metadata": {},
   "outputs": [
    {
     "name": "stdout",
     "output_type": "stream",
     "text": [
      "厚さ： 703687.44177664キロメートル\n"
     ]
    }
   ],
   "source": [
    "thickness = 0.00008\n",
    "folded_thickness = thickness*2**43\n",
    "print(\"厚さ： {}キロメートル\".format(folded_thickness/1000))"
   ]
  },
  {
   "cell_type": "markdown",
   "metadata": {},
   "source": [
    "## for文"
   ]
  },
  {
   "cell_type": "code",
   "execution_count": 32,
   "metadata": {},
   "outputs": [
    {
     "name": "stdout",
     "output_type": "stream",
     "text": [
      "厚さ： 703687.44177648キロメートル\n"
     ]
    }
   ],
   "source": [
    "thickness = 0.00008\n",
    "folded_thickness = 0\n",
    "numbers = []\n",
    "for i in range(1, 43):\n",
    "    numbers.append(i)\n",
    "    n_numbers = len(numbers)\n",
    "    folded_thickness += thickness * 2 ** i\n",
    "print(\"厚さ： {}キロメートル\".format(folded_thickness/1000))"
   ]
  },
  {
   "cell_type": "markdown",
   "metadata": {},
   "source": [
    "## 計算速度 べき乗"
   ]
  },
  {
   "cell_type": "code",
   "execution_count": 24,
   "metadata": {},
   "outputs": [
    {
     "name": "stdout",
     "output_type": "stream",
     "text": [
      "厚さ： 703687.44177664キロメートル\n",
      "time : 0.000347137451171875[s]\n"
     ]
    }
   ],
   "source": [
    "import time\n",
    "start = time.time()\n",
    "thickness = 0.00008\n",
    "folded_thickness = thickness*2**43\n",
    "\n",
    "print(\"厚さ： {}キロメートル\".format(folded_thickness/1000))\n",
    "elapsed_time = time.time() - start\n",
    "print(\"time : {}[s]\".format(elapsed_time))"
   ]
  },
  {
   "cell_type": "markdown",
   "metadata": {},
   "source": [
    "## 計算速度 for 文"
   ]
  },
  {
   "cell_type": "code",
   "execution_count": 28,
   "metadata": {},
   "outputs": [
    {
     "name": "stdout",
     "output_type": "stream",
     "text": [
      "厚さ： 1.6e-07キロメートル\n",
      "厚さ： 4.800000000000001e-07キロメートル\n",
      "厚さ： 1.12e-06キロメートル\n",
      "厚さ： 2.4000000000000003e-06キロメートル\n",
      "厚さ： 4.960000000000001e-06キロメートル\n",
      "厚さ： 1.0080000000000002e-05キロメートル\n",
      "厚さ： 2.0320000000000005e-05キロメートル\n",
      "厚さ： 4.08e-05キロメートル\n",
      "厚さ： 8.176e-05キロメートル\n",
      "厚さ： 0.00016368キロメートル\n",
      "厚さ： 0.00032752000000000004キロメートル\n",
      "厚さ： 0.0006552キロメートル\n",
      "厚さ： 0.0013105600000000001キロメートル\n",
      "厚さ： 0.0026212800000000006キロメートル\n",
      "厚さ： 0.00524272キロメートル\n",
      "厚さ： 0.010485600000000001キロメートル\n",
      "厚さ： 0.020971360000000005キロメートル\n",
      "厚さ： 0.04194288キロメートル\n",
      "厚さ： 0.08388592キロメートル\n",
      "厚さ： 0.167772キロメートル\n",
      "厚さ： 0.33554416000000004キロメートル\n",
      "厚さ： 0.6710884800000001キロメートル\n",
      "厚さ： 1.3421771200000003キロメートル\n",
      "厚さ： 2.6843544キロメートル\n",
      "厚さ： 5.36870896キロメートル\n",
      "厚さ： 10.73741808キロメートル\n",
      "厚さ： 21.47483632キロメートル\n",
      "厚さ： 42.9496728キロメートル\n",
      "厚さ： 85.89934576キロメートル\n",
      "厚さ： 171.79869168キロメートル\n",
      "厚さ： 343.59738352000005キロメートル\n",
      "厚さ： 687.1947672000001キロメートル\n",
      "厚さ： 1374.3895345600001キロメートル\n",
      "厚さ： 2748.7790692800004キロメートル\n",
      "厚さ： 5497.55813872キロメートル\n",
      "厚さ： 10995.116277600002キロメートル\n",
      "厚さ： 21990.232555360006キロメートル\n",
      "厚さ： 43980.46511088キロメートル\n",
      "厚さ： 87960.93022192002キロメートル\n",
      "厚さ： 175921.86044400002キロメートル\n",
      "厚さ： 351843.72088816キロメートル\n",
      "厚さ： 703687.44177648キロメートル\n",
      "time : 0.002164125442504883[s]\n"
     ]
    }
   ],
   "source": [
    "import time\n",
    "start = time.time()\n",
    "thickness = 0.00008\n",
    "folded_thickness = 0\n",
    "numbers = []\n",
    "for i in range(1, 43):\n",
    "    numbers.append(i)\n",
    "    n_numbers = len(numbers)\n",
    "    folded_thickness += thickness * 2 ** i\n",
    "    print(\"厚さ： {}キロメートル\".format(folded_thickness/1000))\n",
    "elapsed_time = time.time() - start\n",
    "print(\"time : {}[s]\".format(elapsed_time))"
   ]
  },
  {
   "cell_type": "markdown",
   "metadata": {},
   "source": [
    "## 折れ線グラフの表示"
   ]
  },
  {
   "cell_type": "code",
   "execution_count": 12,
   "metadata": {},
   "outputs": [],
   "source": [
    "import matplotlib.pyplot as plt\n",
    "%matplotlib inline"
   ]
  },
  {
   "cell_type": "code",
   "execution_count": 27,
   "metadata": {},
   "outputs": [
    {
     "name": "stdout",
     "output_type": "stream",
     "text": [
      "厚さ： 1.6e-07キロメートル\n",
      "厚さ： 4.800000000000001e-07キロメートル\n",
      "厚さ： 1.12e-06キロメートル\n",
      "厚さ： 2.4000000000000003e-06キロメートル\n",
      "厚さ： 4.960000000000001e-06キロメートル\n",
      "厚さ： 1.0080000000000002e-05キロメートル\n",
      "厚さ： 2.0320000000000005e-05キロメートル\n",
      "厚さ： 4.08e-05キロメートル\n",
      "厚さ： 8.176e-05キロメートル\n",
      "厚さ： 0.00016368キロメートル\n",
      "厚さ： 0.00032752000000000004キロメートル\n",
      "厚さ： 0.0006552キロメートル\n",
      "厚さ： 0.0013105600000000001キロメートル\n",
      "厚さ： 0.0026212800000000006キロメートル\n",
      "厚さ： 0.00524272キロメートル\n",
      "厚さ： 0.010485600000000001キロメートル\n",
      "厚さ： 0.020971360000000005キロメートル\n",
      "厚さ： 0.04194288キロメートル\n",
      "厚さ： 0.08388592キロメートル\n",
      "厚さ： 0.167772キロメートル\n",
      "厚さ： 0.33554416000000004キロメートル\n",
      "厚さ： 0.6710884800000001キロメートル\n",
      "厚さ： 1.3421771200000003キロメートル\n",
      "厚さ： 2.6843544キロメートル\n",
      "厚さ： 5.36870896キロメートル\n",
      "厚さ： 10.73741808キロメートル\n",
      "厚さ： 21.47483632キロメートル\n",
      "厚さ： 42.9496728キロメートル\n",
      "厚さ： 85.89934576キロメートル\n",
      "厚さ： 171.79869168キロメートル\n",
      "厚さ： 343.59738352000005キロメートル\n",
      "厚さ： 687.1947672000001キロメートル\n",
      "厚さ： 1374.3895345600001キロメートル\n",
      "厚さ： 2748.7790692800004キロメートル\n",
      "厚さ： 5497.55813872キロメートル\n",
      "厚さ： 10995.116277600002キロメートル\n",
      "厚さ： 21990.232555360006キロメートル\n",
      "厚さ： 43980.46511088キロメートル\n",
      "厚さ： 87960.93022192002キロメートル\n",
      "厚さ： 175921.86044400002キロメートル\n",
      "厚さ： 351843.72088816キロメートル\n",
      "厚さ： 703687.44177648キロメートル\n"
     ]
    },
    {
     "data": {
      "text/plain": [
       "[<matplotlib.lines.Line2D at 0x10a511d30>]"
      ]
     },
     "execution_count": 27,
     "metadata": {},
     "output_type": "execute_result"
    },
    {
     "data": {
      "image/png": "[encoded data removed]",
      "text/plain": [
       "<Figure size 432x288 with 1 Axes>"
      ]
     },
     "metadata": {},
     "output_type": "display_data"
    }
   ],
   "source": [
    "thickness = 0.00008\n",
    "folded_thickness = 0\n",
    "numbers = []\n",
    "for i in range(1, 43):\n",
    "    numbers.append(i)\n",
    "    n_numbers = len(numbers)\n",
    "    folded_thickness += thickness * 2 ** i\n",
    "    print(\"厚さ： {}キロメートル\".format(folded_thickness/1000))\n",
    "plt.title(\"thickness of folded paper\")\n",
    "plt.xlabel(\"number of folds\")\n",
    "plt.ylabel(\"thickness[m]\")\n",
    "plt.plot(numbers)"
   ]
  },
  {
   "cell_type": "code",
   "execution_count": null,
   "metadata": {},
   "outputs": [],
   "source": []
  }
 ],
 "metadata": {
  "kernelspec": {
   "display_name": "Python 3",
   "language": "python",
   "name": "python3"
  },
  "language_info": {
   "codemirror_mode": {
    "name": "ipython",
    "version": 3
   },
   "file_extension": ".py",
   "mimetype": "text/x-python",
   "name": "python",
   "nbconvert_exporter": "python",
   "pygments_lexer": "ipython3",
   "version": "3.6.5"
  }
 },
 "nbformat": 4,
 "nbformat_minor": 2
}
