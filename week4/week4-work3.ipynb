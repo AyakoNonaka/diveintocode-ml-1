{
 "cells": [
  {
   "cell_type": "markdown",
   "metadata": {},
   "source": [
    "1. 【問題1】これまで利用してきたクラスの列挙\n",
    "1. 【問題2】これまで利用してきたメソッドやインスタンス変数の列挙\n",
    "1. 【問題3】標準化クラスをスクラッチで作成"
   ]
  },
  {
   "cell_type": "code",
   "execution_count": 1,
   "metadata": {},
   "outputs": [
    {
     "name": "stdout",
     "output_type": "stream",
     "text": [
      "平均 : [4.86 3.31 1.45 0.22]\n",
      "分散 : [0.0764 0.0849 0.0105 0.0056]\n"
     ]
    }
   ],
   "source": [
    "import numpy as np\n",
    "from sklearn.preprocessing import StandardScaler\n",
    "from sklearn.datasets import load_iris\n",
    "\n",
    "data = load_iris()\n",
    "X = data.data[:10]\n",
    "\n",
    "scaler = StandardScaler()\n",
    "scaler.fit(X)\n",
    "print(\"平均 :\", scaler.mean_)\n",
    "print(\"分散 :\", scaler.var_)\n",
    "X_std = scaler.transform(X)"
   ]
  },
  {
   "cell_type": "code",
   "execution_count": 2,
   "metadata": {},
   "outputs": [
    {
     "name": "stdout",
     "output_type": "stream",
     "text": [
      "StandardScaler(copy=True, with_mean=True, with_std=True)\n"
     ]
    }
   ],
   "source": [
    "scaler0 = StandardScaler()\n",
    "print(scaler0)"
   ]
  },
  {
   "cell_type": "markdown",
   "metadata": {},
   "source": [
    "## 【問題1】これまで利用してきたクラスの列挙\n"
   ]
  },
  {
   "cell_type": "markdown",
   "metadata": {},
   "source": [
    "### Pandas \n",
    "SeriesPlotMethods  \n",
    "https://pandas.pydata.org/pandas-docs/stable/reference/api/pandas.Series.plot.html#pandas.Series.plot  \n",
    "https://github.com/pandas-dev/pandas/blob/v0.24.0/pandas/plotting/_core.py#L2709-L2906\n",
    "\n",
    "### matplotlib\n",
    "RcParams  \n",
    "https://matplotlib.org/_modules/matplotlib.html#rc  \n",
    "https://matplotlib.org/api/matplotlib_configuration_api.html#matplotlib.rc\n",
    "\n",
    "### scikit-learn\n",
    "LinearRegression  \n",
    "https://scikit-learn.org/stable/modules/generated/sklearn.linear_model.LinearRegression.html#sklearn.linear_model.LinearRegression  \n",
    "https://github.com/scikit-learn/scikit-learn/blob/7389dba/sklearn/linear_model/base.py#L362"
   ]
  },
  {
   "cell_type": "markdown",
   "metadata": {},
   "source": [
    "## 【問題2】これまで利用してきたメソッドやインスタンス変数の列挙"
   ]
  },
  {
   "cell_type": "markdown",
   "metadata": {},
   "source": [
    "### メソッド\n",
    "load_iris()  \n",
    "https://github.com/scikit-learn/scikit-learn/blob/7389dba/sklearn/datasets/base.py#L328\n",
    "\n",
    "plt.show()  \n",
    "https://matplotlib.org/_modules/matplotlib/pyplot.html#show\n",
    "\n",
    "np.delete()  \n",
    "https://github.com/numpy/numpy/blob/v1.15.0/numpy/lib/function_base.py#L4065-L4267\n",
    "\n",
    "plt.xlabel()  \n",
    "https://matplotlib.org/_modules/matplotlib/pyplot.html#xlabel\n",
    "\n",
    "plt.ylabel()  \n",
    "https://matplotlib.org/_modules/matplotlib/pyplot.html#ylabel\n",
    "\n",
    "### インスタンス変数\n",
    "\n",
    "numpy.ndarray.data  \n",
    "https://docs.scipy.org/doc/numpy-1.15.0/reference/generated/numpy.ndarray.data.html\n",
    "\n",
    "numpy.ndarray.itemsize  \n",
    "https://docs.scipy.org/doc/numpy-1.15.0/reference/generated/numpy.ndarray.itemsize.html\n",
    "\n",
    "numpy.ndarray.T  \n",
    "https://docs.scipy.org/doc/numpy-1.15.0/reference/generated/numpy.ndarray.T.html#numpy.ndarray.T\n",
    "\n",
    "numpy.ndarray.flat  \n",
    "https://docs.scipy.org/doc/numpy-1.15.0/reference/generated/numpy.ndarray.flat.html#numpy.ndarray.flat\n",
    "\n",
    "numpy.ndarray.strides  \n",
    "https://docs.scipy.org/doc/numpy-1.15.0/reference/generated/numpy.ndarray.strides.html#numpy.ndarray.strides"
   ]
  },
  {
   "cell_type": "markdown",
   "metadata": {},
   "source": [
    "## 【問題3】標準化クラスをスクラッチで作成"
   ]
  },
  {
   "cell_type": "code",
   "execution_count": 3,
   "metadata": {},
   "outputs": [],
   "source": [
    "class ScratchStandardScaler():\n",
    "    \"\"\"\n",
    "    標準化のためのクラス\n",
    "\n",
    "    Attributes\n",
    "    ----------\n",
    "    mean_ : 次の形のndarray, shape(n_features,)\n",
    "        平均\n",
    "    var_ : 次の形のndarray, shape(n_features,)\n",
    "        分散\n",
    "    \"\"\"\n",
    "\n",
    "    def fit(self, X):\n",
    "        \"\"\"\n",
    "        標準化のために平均と標準偏差を計算する。\n",
    "\n",
    "        Parameters\n",
    "        ----------\n",
    "        X : 次の形のndarray, shape (n_samples, n_features)\n",
    "            学習データ\n",
    "        \"\"\"\n",
    "\n",
    "        self.mean_ = X.mean(axis=0)\n",
    "        self.var_ = X.var(axis=0)\n",
    "\n",
    "        pass\n",
    "\n",
    "    def transform(self, X):\n",
    "        \"\"\"\n",
    "        fitで求めた値を使い標準化を行う。\n",
    "\n",
    "        Parameters\n",
    "        ----------\n",
    "        X : 次の形のndarray, shape (n_samples, n_features)\n",
    "            特徴量\n",
    "\n",
    "        Returns\n",
    "        ----------\n",
    "        X_scaled : 次の形のndarray, shape (n_samples, n_features)\n",
    "            標準化された特緒量\n",
    "        \"\"\"\n",
    "        X_mean = X.mean(axis=0)\n",
    "        X_std  = X.std(axis=0)\n",
    "        X_scaled = (X - X_mean) / X_std\n",
    "        \n",
    "        pass\n",
    "        return X_scaled"
   ]
  },
  {
   "cell_type": "code",
   "execution_count": 4,
   "metadata": {},
   "outputs": [
    {
     "name": "stdout",
     "output_type": "stream",
     "text": [
      "平均 : [4.86 3.31 1.45 0.22]\n",
      "分散 : [0.0764 0.0849 0.0105 0.0056]\n"
     ]
    }
   ],
   "source": [
    "import numpy as np\n",
    "from sklearn.datasets import load_iris\n",
    "\n",
    "data = load_iris()\n",
    "X = data.data[:10]\n",
    "\n",
    "scratch_scaler = ScratchStandardScaler()\n",
    "scratch_scaler.fit(X)\n",
    "print(\"平均 :\", scratch_scaler.mean_)\n",
    "print(\"分散 :\", scratch_scaler.var_)\n",
    "X_std = scratch_scaler.transform(X)"
   ]
  },
  {
   "cell_type": "markdown",
   "metadata": {},
   "source": [
    "## 【課題4】 四則演算を行うクラスの作成\n"
   ]
  },
  {
   "cell_type": "code",
   "execution_count": 5,
   "metadata": {},
   "outputs": [],
   "source": [
    "class ExampleClass():\n",
    "    \"\"\"\n",
    "    説明用の簡単なクラス\n",
    "\n",
    "    Parameters\n",
    "    ----------\n",
    "    value : float or int\n",
    "        初期値\n",
    "\n",
    "    Attributes\n",
    "    ----------\n",
    "    value : float or int\n",
    "        計算結果\n",
    "    \"\"\"\n",
    "    def __init__(self, value):\n",
    "        if isinstance(value, int):\n",
    "            self.value = value\n",
    "            print(\"初期値{}が設定されました\".format(self.value))\n",
    "        else:\n",
    "            self.value = 0\n",
    "            print(\"数値以外{}が設定されたため、0にしました。\".format(self.value))\n",
    "            \n",
    "    def add(self, value):\n",
    "        \"\"\"\n",
    "        受け取った引数をself.valueに加える\n",
    "        \"\"\"\n",
    "        self.value += value\n",
    "\n",
    "    def subtraction(self, value):\n",
    "        self.value -= value\n",
    "        \n",
    "    def multiplication(self, value):\n",
    "        self.value *= value\n",
    "        \n",
    "    def division(self, value):\n",
    "        self.value /= value"
   ]
  },
  {
   "cell_type": "code",
   "execution_count": 6,
   "metadata": {},
   "outputs": [
    {
     "name": "stdout",
     "output_type": "stream",
     "text": [
      "数値以外0が設定されたため、0にしました。\n",
      "value : 0\n",
      "value : 3\n",
      "value : 0\n",
      "value : 0\n",
      "value : 0.0\n"
     ]
    }
   ],
   "source": [
    "example = ExampleClass(\"あ\")\n",
    "print(\"value :\", example.value)\n",
    "\n",
    "example.add(3)\n",
    "print(\"value :\", example.value)\n",
    "\n",
    "example.subtraction(3)\n",
    "print(\"value :\", example.value)\n",
    "\n",
    "example.multiplication(3)\n",
    "print(\"value :\", example.value)\n",
    "\n",
    "example.division(3)\n",
    "print(\"value :\", example.value)"
   ]
  },
  {
   "cell_type": "code",
   "execution_count": null,
   "metadata": {},
   "outputs": [],
   "source": []
  }
 ],
 "metadata": {
  "kernelspec": {
   "display_name": "Python 3",
   "language": "python",
   "name": "python3"
  },
  "language_info": {
   "codemirror_mode": {
    "name": "ipython",
    "version": 3
   },
   "file_extension": ".py",
   "mimetype": "text/x-python",
   "name": "python",
   "nbconvert_exporter": "python",
   "pygments_lexer": "ipython3",
   "version": "3.6.5"
  }
 },
 "nbformat": 4,
 "nbformat_minor": 2
}
